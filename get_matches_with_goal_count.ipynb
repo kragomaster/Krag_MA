{
 "cells": [
  {
   "cell_type": "code",
   "execution_count": 2,
   "metadata": {},
   "outputs": [],
   "source": [
    "import json\n",
    "import pandas as pd \n",
    "import re\n",
    "\n",
    "\n",
    "with open('Wyscout_18_19/matches/matches_Germany.json') as f:\n",
    "    data = json.load(f)\n",
    "    \n",
    "matches = pd.DataFrame(data)\n",
    "#matches\n",
    "# Funktion zur Ersetzung der Escape-Sequenzen definieren\n",
    "def replace_escape_sequences(text):\n",
    "    return text.encode('utf-8').decode('unicode-escape')\n",
    "\n",
    "\n",
    "\n",
    "matches[\"label\"] = matches[\"label\"].apply(replace_escape_sequences)\n",
    "# Funktion zum Extrahieren und Summieren von Zahlen aus einem String\n",
    "def extract_and_sum_goals(label):\n",
    "        #label_new = label.str.replace(\"K\\u00f6ln\", \"Köln\")\n",
    "        # Verwende reguläre Ausdrücke, um alle Zahlen aus dem String zu extrahieren\n",
    "        numbers = re.findall(r'\\d+', label)\n",
    "        # Wandle die extrahierten Zeichen in ganze Zahlen um und summiere sie\n",
    "        total = sum(map(int, numbers))\n",
    "        # Funktion zieht vom Endergebnis alle zweistelligen Nummern ab, hier bspw. bei \"Schalke 04\", \"Mainz 05\", \"Hannover 96\"\n",
    "        for num in numbers:\n",
    "            if re.search(r'\\b\\d{2,}\\b', num):\n",
    "                total = total - int(num)\n",
    "        \n",
    "        return total\n",
    "\n",
    "# Die Funktion auf die 'label'-Spalte anwenden und das Ergebnis in einer neuen Spalte 'numb_goals' speichern\n",
    "matches['numbGoals'] = matches['label'].apply(extract_and_sum_goals)\n",
    "matches = matches[[\"wyId\",\"label\",\"numbGoals\"]]\n",
    "matches.to_csv(\"matches_ger_with_goals_count2.csv\")\n",
    "#matches\n"
   ]
  }
 ],
 "metadata": {
  "kernelspec": {
   "display_name": "Python 3",
   "language": "python",
   "name": "python3"
  },
  "language_info": {
   "codemirror_mode": {
    "name": "ipython",
    "version": 3
   },
   "file_extension": ".py",
   "mimetype": "text/x-python",
   "name": "python",
   "nbconvert_exporter": "python",
   "pygments_lexer": "ipython3",
   "version": "3.11.4"
  }
 },
 "nbformat": 4,
 "nbformat_minor": 2
}
